{
 "cells": [
  {
   "cell_type": "code",
   "execution_count": 2,
   "id": "c54033df",
   "metadata": {},
   "outputs": [
    {
     "name": "stdout",
     "output_type": "stream",
     "text": [
      "Python 3.8.5\n"
     ]
    }
   ],
   "source": [
    "!python --version"
   ]
  },
  {
   "cell_type": "code",
   "execution_count": 9,
   "id": "00400965",
   "metadata": {},
   "outputs": [
    {
     "name": "stdout",
     "output_type": "stream",
     "text": [
      "Enter a retailer: pepsi\n",
      "No suitable correction found for 'pepsi'.\n",
      "0    Butterball, select varieties, spend $10 at Kin...\n",
      "Name: OFFER, dtype: object\n"
     ]
    }
   ],
   "source": [
    "import pandas as pd\n",
    "from fuzzywuzzy import fuzz\n",
    "from fuzzywuzzy import process\n",
    "\n",
    "def search():\n",
    "\n",
    "    brandCategory = pd.read_csv(\"brand_category.csv\")\n",
    "    categories = pd.read_csv(\"categories.csv\")\n",
    "    offerRetailer = pd.read_csv(\"offer_retailer.csv\")\n",
    "\n",
    "    catBrandCat = pd.merge(brandCategory,categories, left_on=\"BRAND_BELONGS_TO_CATEGORY\",right_on=\"PRODUCT_CATEGORY\")\n",
    "\n",
    "    #print(categories.shape,brandCategory.shape, catBrandCat.shape)\n",
    "\n",
    "    catBrandRetailer = pd.merge(catBrandCat,offerRetailer, on=\"BRAND\")\n",
    "\n",
    "    #print(catBrandRetailer.shape, len(catBrandRetailer.RETAILER.unique()))\n",
    "\n",
    "    retailerVocab = catBrandRetailer.RETAILER.unique()\n",
    "\n",
    "    retailerVocabAll = offerRetailer.RETAILER.unique()\n",
    "\n",
    "#     inputWord = input(\"Enter a retailer: \")\n",
    "\n",
    "    bestMatch, similarityScore = process.extractOne(inputWord, retailerVocabAll)\n",
    "\n",
    "    # Set a similarity threshold to determine if the input word is a close match\n",
    "    similarityThreshold = 80\n",
    "\n",
    "    # Check if the best match meets the similarity threshold\n",
    "    if similarityScore >= similarityThreshold:\n",
    "        print(f\"Original word: {inputWord}\")\n",
    "        print(f\"Best match: {bestMatch}\")\n",
    "        print(f\"Similarity score: {similarityScore}\")\n",
    "        print(\"Spelling corrected!\")\n",
    "    else:\n",
    "        print(f\"No suitable correction found for '{inputWord}'.\")\n",
    "\n",
    "\n",
    "    if bestMatch in retailerVocab:\n",
    "        print(offerRetailer[offerRetailer.RETAILER==bestMatch]['OFFER'].reset_index(drop=True))\n",
    "    else:\n",
    "        print(f\"Currently there are no offers for {bestMatch}\")"
   ]
  },
  {
   "cell_type": "code",
   "execution_count": 4,
   "id": "b1bd74d0",
   "metadata": {},
   "outputs": [
    {
     "name": "stdout",
     "output_type": "stream",
     "text": [
      "Collecting fuzzywuzzy\n",
      "  Downloading fuzzywuzzy-0.18.0-py2.py3-none-any.whl (18 kB)\n",
      "Installing collected packages: fuzzywuzzy\n",
      "Successfully installed fuzzywuzzy-0.18.0\n"
     ]
    }
   ],
   "source": [
    "!pip install fuzzywuzzy"
   ]
  }
 ],
 "metadata": {
  "kernelspec": {
   "display_name": "Python 3 (ipykernel)",
   "language": "python",
   "name": "python3"
  },
  "language_info": {
   "codemirror_mode": {
    "name": "ipython",
    "version": 3
   },
   "file_extension": ".py",
   "mimetype": "text/x-python",
   "name": "python",
   "nbconvert_exporter": "python",
   "pygments_lexer": "ipython3",
   "version": "3.8.5"
  }
 },
 "nbformat": 4,
 "nbformat_minor": 5
}
